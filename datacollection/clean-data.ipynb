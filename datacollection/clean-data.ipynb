{
 "cells": [
  {
   "cell_type": "markdown",
   "id": "6730f4a6-127e-48c0-ade2-0b08916d5ef5",
   "metadata": {},
   "source": [
    "File to Clean stock data\n",
    "\n",
    "The file imports CSV files underthe name all_stock_data_final-year.csv (e.x. all_stock_data_final-2015.csv) containing stock data, concatenates them, and creates new variables to use in the models such as volatility and moving average.\n",
    "Output is a csv file called clean_data.csv.\n",
    "\n",
    "Name: Sean Brady\n",
    "Created: Dec 3, 2023\n"
   ]
  },
  {
   "cell_type": "code",
   "execution_count": null,
   "id": "342f0cbb-99f2-476f-a4cb-6f767120f5e1",
   "metadata": {},
   "outputs": [],
   "source": [
    "import pandas as pd #import modules to handle data"
   ]
  },
  {
   "cell_type": "code",
   "execution_count": 2,
   "id": "004952b6-cb3c-496c-959f-406e9b12f13c",
   "metadata": {},
   "outputs": [],
   "source": [
    "#read in data for years 2013-2018\n",
    "df13 = pd.read_csv('stockData/all_stock_data_final-2013.csv', encoding='latin-1')\n",
    "df14 = pd.read_csv('stockData/all_stock_data_final-2014.csv', encoding='latin-1')\n",
    "df15 = pd.read_csv('stockData/all_stock_data_final-2015.csv', encoding='latin-1')\n",
    "df16 = pd.read_csv('stockData/all_stock_data_final-2016.csv', encoding='latin-1')\n",
    "df17 = pd.read_csv('stockData/all_stock_data_final-2017.csv', encoding='latin-1')\n",
    "df18 = pd.read_csv('stockData/all_stock_data_final-2018.csv', encoding='latin-1')\n"
   ]
  },
  {
   "cell_type": "code",
   "execution_count": 3,
   "id": "62ceee0a-dd90-477b-8ac0-86dbf9c88835",
   "metadata": {
    "collapsed": true,
    "jupyter": {
     "outputs_hidden": true
    },
    "tags": []
   },
   "outputs": [
    {
     "name": "stdout",
     "output_type": "stream",
     "text": [
      "shape for year 2013:\n",
      "\n",
      "(108212, 7)\n",
      "data snippit for year 2013:\n",
      "\n",
      "        date     open     high      low    close     volume  Name\n",
      "0   2/8/2013  67.7142  68.4014  66.8928  67.8542  158168416  AAPL\n",
      "1  2/11/2013  68.0714  69.2771  67.6071  68.5614  129029425  AAPL\n",
      "2  2/12/2013  68.5014  68.9114  66.8205  66.8428  151829363  AAPL\n",
      "3  2/13/2013  66.7442  67.6628  66.1742  66.7156  118721995  AAPL\n",
      "4  2/14/2013  66.3599  67.3771  66.2885  66.6556   88809154  AAPL\n",
      "5  2/15/2013  66.9785  67.1656  65.7028  65.7371   97924631  AAPL\n",
      "6  2/19/2013  65.8714  66.1042  64.8356  65.7128  108854046  AAPL\n",
      "7  2/20/2013  65.3842  65.3842  64.1142  64.1214  118891367  AAPL\n",
      "8  2/21/2013  63.7142  64.1671  63.2599  63.7228  111596821  AAPL\n",
      "9  2/22/2013  64.1785  64.5142  63.7999  64.4014   82583823  AAPL\n",
      "\n",
      "\n",
      "shape for year 2014:\n",
      "\n",
      "(122145, 7)\n",
      "data snippit for year 2014:\n",
      "\n",
      "        date     open     high      low    close     volume  Name\n",
      "0   1/2/2014  79.3828  79.5756  78.8601  79.0185   58791957  AAPL\n",
      "1   1/3/2014  78.9799  79.0999  77.2042  77.2828   98303870  AAPL\n",
      "2   1/6/2014  76.7785  78.1142  76.2285  77.7042  103359151  AAPL\n",
      "3   1/7/2014  77.7599  77.9942  76.8464  77.1481   79432766  AAPL\n",
      "4   1/8/2014  76.9728  77.9371  76.9556  77.6371   64686685  AAPL\n",
      "5   1/9/2014  78.1142  78.1228  76.4785  76.6455   69905199  AAPL\n",
      "6  1/10/2014  77.1185  77.2571  75.8728  76.1342   76320664  AAPL\n",
      "7  1/13/2014  75.7014  77.4999  75.6971  76.5328   94860843  AAPL\n",
      "8  1/14/2014  76.8885  78.1042  76.8085  78.0556   83734371  AAPL\n",
      "9  1/15/2014  79.0742  80.0285  78.8085  79.6228   98472619  AAPL\n",
      "\n",
      "\n",
      "shape for year 2015:\n",
      "\n",
      "(123719, 7)\n",
      "data snippit for year 2015:\n",
      "\n",
      "        date   open    high     low  close   volume Name\n",
      "0   1/2/2015  43.46  43.700  43.065  43.31  1784851  ZTS\n",
      "1   1/5/2015  43.25  43.630  42.970  43.05  3116681  ZTS\n",
      "2   1/6/2015  43.15  43.360  42.295  42.63  3987015  ZTS\n",
      "3   1/7/2015  43.00  43.560  42.980  43.51  2481935  ZTS\n",
      "4   1/8/2015  44.75  44.870  44.000  44.18  3121258  ZTS\n",
      "5   1/9/2015  44.06  44.435  43.680  44.25  2999107  ZTS\n",
      "6  1/12/2015  44.34  44.340  43.285  43.42  2168274  ZTS\n",
      "7  1/13/2015  43.89  44.220  42.570  42.81  3668576  ZTS\n",
      "8  1/14/2015  42.50  43.230  42.290  43.03  2481327  ZTS\n",
      "9  1/15/2015  43.27  43.770  42.900  42.94  2719250  ZTS\n",
      "\n",
      "\n",
      "shape for year 2016:\n",
      "\n",
      "(125072, 7)\n",
      "data snippit for year 2016:\n",
      "\n",
      "        date   open     high    low  close    volume Name\n",
      "0   1/4/2016  41.29  41.3501  40.30  40.91  12037151  AAL\n",
      "1   1/5/2016  41.18  41.4900  39.95  40.52  10514164  AAL\n",
      "2   1/6/2016  40.05  41.7000  40.00  41.23  12393780  AAL\n",
      "3   1/7/2016  40.97  41.5200  39.68  40.45  11312876  AAL\n",
      "4   1/8/2016  40.94  41.3600  40.26  40.37   8853096  AAL\n",
      "5  1/11/2016  40.56  41.2000  39.90  41.08  15877511  AAL\n",
      "6  1/12/2016  41.15  42.3600  40.48  42.00  12635992  AAL\n",
      "7  1/13/2016  42.17  42.7400  39.66  40.10  12718577  AAL\n",
      "8  1/14/2016  40.21  40.7800  38.86  40.55  11756473  AAL\n",
      "9  1/15/2016  39.04  39.8900  38.37  38.76  18924825  AAL\n",
      "\n",
      "\n",
      "shape for year 2017:\n",
      "\n",
      "(125781, 7)\n",
      "data snippit for year 2017:\n",
      "\n",
      "        date   open    high     low  close   volume Name\n",
      "0   1/3/2017  47.28  47.340  46.135  46.30  6737752  AAL\n",
      "1   1/4/2017  46.63  47.435  46.350  46.70  5859604  AAL\n",
      "2   1/5/2017  46.52  46.930  45.610  45.89  6825316  AAL\n",
      "3   1/6/2017  45.85  46.720  45.470  46.21  7260197  AAL\n",
      "4   1/9/2017  46.01  47.340  45.780  47.08  4739142  AAL\n",
      "5  1/10/2017  47.00  48.510  46.970  48.48  7483764  AAL\n",
      "6  1/11/2017  49.29  49.900  48.100  48.64  6925770  AAL\n",
      "7  1/12/2017  48.67  49.000  46.840  48.10  5448098  AAL\n",
      "8  1/13/2017  48.16  48.430  47.540  47.65  3541980  AAL\n",
      "9  1/17/2017  47.56  47.750  46.670  46.75  5350794  AAL\n",
      "\n",
      "\n",
      "shape for year 2018:\n",
      "\n",
      "(13104, 7)\n",
      "data snippit for year 2018:\n",
      "\n",
      "        date   open     high     low  close    volume Name\n",
      "0   1/2/2018  52.33  53.1000  51.900  52.99   4084712  AAL\n",
      "1   1/3/2018  52.86  52.8600  52.055  52.34   5074850  AAL\n",
      "2   1/4/2018  52.48  54.4000  52.265  52.67   3557059  AAL\n",
      "3   1/5/2018  52.78  52.8388  52.430  52.65   2967756  AAL\n",
      "4   1/8/2018  52.60  52.6400  51.930  52.13   3515785  AAL\n",
      "5   1/9/2018  52.97  53.3700  52.005  52.08   3426021  AAL\n",
      "6  1/10/2018  53.23  54.0200  52.880  53.78   7655771  AAL\n",
      "7  1/11/2018  54.49  57.0000  54.180  56.42  11339858  AAL\n",
      "8  1/12/2018  56.56  58.7300  56.560  58.47   7505761  AAL\n",
      "9  1/16/2018  58.79  59.0800  57.530  57.98   5283872  AAL\n",
      "\n",
      "\n"
     ]
    }
   ],
   "source": [
    "#print snippet of data frame for each year\n",
    "for i in range(3,9): #loop through each year\n",
    "    name = f'df1{i}' #construct variable name i.e. df13 or df14\n",
    "    print(f\"shape for year 201{i}:\\n\")\n",
    "    print(globals()[name].shape)\n",
    "    print(f\"data snippit for year 201{i}:\\n\")\n",
    "    print(globals()[name].head(10))\n",
    "    print(\"\\n\")"
   ]
  },
  {
   "cell_type": "code",
   "execution_count": 4,
   "id": "85f8c36c-e7c9-4764-9070-f96e9510bc8b",
   "metadata": {
    "collapsed": true,
    "jupyter": {
     "outputs_hidden": true
    },
    "tags": []
   },
   "outputs": [
    {
     "name": "stdout",
     "output_type": "stream",
     "text": [
      "(618033, 7)\n",
      "        date     open     high      low    close     volume  Name\n",
      "0   2/8/2013  67.7142  68.4014  66.8928  67.8542  158168416  AAPL\n",
      "1  2/11/2013  68.0714  69.2771  67.6071  68.5614  129029425  AAPL\n",
      "2  2/12/2013  68.5014  68.9114  66.8205  66.8428  151829363  AAPL\n",
      "3  2/13/2013  66.7442  67.6628  66.1742  66.7156  118721995  AAPL\n",
      "4  2/14/2013  66.3599  67.3771  66.2885  66.6556   88809154  AAPL\n",
      "5  2/15/2013  66.9785  67.1656  65.7028  65.7371   97924631  AAPL\n",
      "6  2/19/2013  65.8714  66.1042  64.8356  65.7128  108854046  AAPL\n",
      "7  2/20/2013  65.3842  65.3842  64.1142  64.1214  118891367  AAPL\n",
      "8  2/21/2013  63.7142  64.1671  63.2599  63.7228  111596821  AAPL\n",
      "9  2/22/2013  64.1785  64.5142  63.7999  64.4014   82583823  AAPL\n"
     ]
    }
   ],
   "source": [
    "#combine data from tables for all years\n",
    "df = pd.concat([df13,df14,df15,df16,df17,df18], ignore_index=True)\n",
    "print(df.shape) #print shape of new data frame\n",
    "print(df.head(10)) #print head"
   ]
  },
  {
   "cell_type": "code",
   "execution_count": 5,
   "id": "63925f50-ec7e-49b9-a662-ed938bf5dac2",
   "metadata": {},
   "outputs": [
    {
     "name": "stdout",
     "output_type": "stream",
     "text": [
      "            date   open   high     low  close    volume Name\n",
      "12460 2013-02-08  45.07  45.35  45.000  45.08   1824755    A\n",
      "12461 2013-02-11  45.17  45.18  44.450  44.60   2915405    A\n",
      "12462 2013-02-12  44.81  44.95  44.500  44.62   2373731    A\n",
      "12463 2013-02-13  44.81  45.24  44.680  44.75   2052338    A\n",
      "12464 2013-02-14  44.72  44.78  44.360  44.58   3826245    A\n",
      "12465 2013-02-15  43.48  44.24  42.210  42.25  14657315    A\n",
      "12466 2013-02-19  42.21  43.12  42.210  43.01   4116141    A\n",
      "12467 2013-02-20  42.84  42.85  42.225  42.24   3873183    A\n",
      "12468 2013-02-21  42.14  42.14  41.470  41.63   3415149    A\n",
      "12469 2013-02-22  41.83  42.07  41.580  41.80   3354862    A\n"
     ]
    }
   ],
   "source": [
    "# Convert the 'date' column to datetime objects this is necessary to ensure dates are sorted properly\n",
    "df['date'] = pd.to_datetime(df['date'])\n",
    "# Sort the DataFrame by 'Name' and 'date' first\n",
    "#sorted so that all data related to company a over all years is shown before company b\n",
    "df = df.sort_values(by=['Name', 'date'])\n",
    "print(df.head(10))"
   ]
  },
  {
   "cell_type": "code",
   "execution_count": 6,
   "id": "307addd3-9616-43c5-803e-468f42f1e8e3",
   "metadata": {
    "collapsed": true,
    "jupyter": {
     "outputs_hidden": true
    },
    "tags": []
   },
   "outputs": [
    {
     "name": "stdout",
     "output_type": "stream",
     "text": [
      "(618033, 10)\n",
      "            date   open   high     low  close    volume Name   7_day_ma  \\\n",
      "12460 2013-02-08  45.07  45.35  45.000  45.08   1824755    A        NaN   \n",
      "12461 2013-02-11  45.17  45.18  44.450  44.60   2915405    A        NaN   \n",
      "12462 2013-02-12  44.81  44.95  44.500  44.62   2373731    A        NaN   \n",
      "12463 2013-02-13  44.81  45.24  44.680  44.75   2052338    A        NaN   \n",
      "12464 2013-02-14  44.72  44.78  44.360  44.58   3826245    A        NaN   \n",
      "12465 2013-02-15  43.48  44.24  42.210  42.25  14657315    A        NaN   \n",
      "12466 2013-02-19  42.21  43.12  42.210  43.01   4116141    A  44.127143   \n",
      "12467 2013-02-20  42.84  42.85  42.225  42.24   3873183    A  43.721429   \n",
      "12468 2013-02-21  42.14  42.14  41.470  41.63   3415149    A  43.297143   \n",
      "12469 2013-02-22  41.83  42.07  41.580  41.80   3354862    A  42.894286   \n",
      "\n",
      "       15_day_ma  30_day_ma  \n",
      "12460        NaN        NaN  \n",
      "12461        NaN        NaN  \n",
      "12462        NaN        NaN  \n",
      "12463        NaN        NaN  \n",
      "12464        NaN        NaN  \n",
      "12465        NaN        NaN  \n",
      "12466        NaN        NaN  \n",
      "12467        NaN        NaN  \n",
      "12468        NaN        NaN  \n",
      "12469        NaN        NaN  \n"
     ]
    }
   ],
   "source": [
    "#calculate moving averages for all companies\n",
    "df['7_day_ma'] = df.groupby('Name')['close'].rolling(window=7).mean().reset_index(level=0, drop=True)\n",
    "df['15_day_ma'] = df.groupby('Name')['close'].rolling(window=15).mean().reset_index(level=0, drop=True)\n",
    "df['30_day_ma'] = df.groupby('Name')['close'].rolling(window=30).mean().reset_index(level=0, drop=True)\n",
    "print(df.shape) #print shape of new data frame\n",
    "print(df.head(10)) #print head"
   ]
  },
  {
   "cell_type": "code",
   "execution_count": 7,
   "id": "a2d54fd1-021d-4b55-8d70-5bf2b1efb54e",
   "metadata": {
    "collapsed": true,
    "jupyter": {
     "outputs_hidden": true
    },
    "tags": []
   },
   "outputs": [
    {
     "name": "stdout",
     "output_type": "stream",
     "text": [
      "            date   open   high     low  close    volume Name   7_day_ma  \\\n",
      "12460 2013-02-08  45.07  45.35  45.000  45.08   1824755    A        NaN   \n",
      "12461 2013-02-11  45.17  45.18  44.450  44.60   2915405    A        NaN   \n",
      "12462 2013-02-12  44.81  44.95  44.500  44.62   2373731    A        NaN   \n",
      "12463 2013-02-13  44.81  45.24  44.680  44.75   2052338    A        NaN   \n",
      "12464 2013-02-14  44.72  44.78  44.360  44.58   3826245    A        NaN   \n",
      "12465 2013-02-15  43.48  44.24  42.210  42.25  14657315    A        NaN   \n",
      "12466 2013-02-19  42.21  43.12  42.210  43.01   4116141    A  44.127143   \n",
      "12467 2013-02-20  42.84  42.85  42.225  42.24   3873183    A  43.721429   \n",
      "12468 2013-02-21  42.14  42.14  41.470  41.63   3415149    A  43.297143   \n",
      "12469 2013-02-22  41.83  42.07  41.580  41.80   3354862    A  42.894286   \n",
      "\n",
      "       15_day_ma  30_day_ma  daily_returns  \n",
      "12460        NaN        NaN            NaN  \n",
      "12461        NaN        NaN      -0.010648  \n",
      "12462        NaN        NaN       0.000448  \n",
      "12463        NaN        NaN       0.002913  \n",
      "12464        NaN        NaN      -0.003799  \n",
      "12465        NaN        NaN      -0.052266  \n",
      "12466        NaN        NaN       0.017988  \n",
      "12467        NaN        NaN      -0.017903  \n",
      "12468        NaN        NaN      -0.014441  \n",
      "12469        NaN        NaN       0.004084  \n"
     ]
    }
   ],
   "source": [
    "# Calculate daily returns for each company\n",
    "df['daily_returns'] = df.groupby('Name')['close'].pct_change()\n",
    "\n",
    "print(df.head(10))"
   ]
  },
  {
   "cell_type": "code",
   "execution_count": 8,
   "id": "d166584e-606d-484f-86e2-fe18b02a141c",
   "metadata": {},
   "outputs": [],
   "source": [
    "#create column for daily volatility over window_size time frame\n",
    "window_size = 30  # change as needed\n",
    "df['daily_volatility'] = df.groupby('Name')['daily_returns'].rolling(window=window_size).std().reset_index(level=0, drop=True)\n"
   ]
  },
  {
   "cell_type": "code",
   "execution_count": 9,
   "id": "e60805b5-a6c4-4d66-9061-5c8a76fffc1f",
   "metadata": {
    "collapsed": true,
    "jupyter": {
     "outputs_hidden": true
    },
    "tags": []
   },
   "outputs": [
    {
     "name": "stdout",
     "output_type": "stream",
     "text": [
      "            date   open   high     low  close    volume   7_day_ma  15_day_ma  \\\n",
      "12460 2013-02-08  45.07  45.35  45.000  45.08   1824755        NaN        NaN   \n",
      "12461 2013-02-11  45.17  45.18  44.450  44.60   2915405        NaN        NaN   \n",
      "12462 2013-02-12  44.81  44.95  44.500  44.62   2373731        NaN        NaN   \n",
      "12463 2013-02-13  44.81  45.24  44.680  44.75   2052338        NaN        NaN   \n",
      "12464 2013-02-14  44.72  44.78  44.360  44.58   3826245        NaN        NaN   \n",
      "12465 2013-02-15  43.48  44.24  42.210  42.25  14657315        NaN        NaN   \n",
      "12466 2013-02-19  42.21  43.12  42.210  43.01   4116141  44.127143        NaN   \n",
      "12467 2013-02-20  42.84  42.85  42.225  42.24   3873183  43.721429        NaN   \n",
      "12468 2013-02-21  42.14  42.14  41.470  41.63   3415149  43.297143        NaN   \n",
      "12469 2013-02-22  41.83  42.07  41.580  41.80   3354862  42.894286        NaN   \n",
      "\n",
      "       30_day_ma  daily_returns  ...  Name_XL  Name_XLNX  Name_XOM  Name_XRAY  \\\n",
      "12460        NaN            NaN  ...        0          0         0          0   \n",
      "12461        NaN      -0.010648  ...        0          0         0          0   \n",
      "12462        NaN       0.000448  ...        0          0         0          0   \n",
      "12463        NaN       0.002913  ...        0          0         0          0   \n",
      "12464        NaN      -0.003799  ...        0          0         0          0   \n",
      "12465        NaN      -0.052266  ...        0          0         0          0   \n",
      "12466        NaN       0.017988  ...        0          0         0          0   \n",
      "12467        NaN      -0.017903  ...        0          0         0          0   \n",
      "12468        NaN      -0.014441  ...        0          0         0          0   \n",
      "12469        NaN       0.004084  ...        0          0         0          0   \n",
      "\n",
      "       Name_XRX  Name_XYL  Name_YUM  Name_ZBH  Name_ZION  Name_ZTS  \n",
      "12460         0         0         0         0          0         0  \n",
      "12461         0         0         0         0          0         0  \n",
      "12462         0         0         0         0          0         0  \n",
      "12463         0         0         0         0          0         0  \n",
      "12464         0         0         0         0          0         0  \n",
      "12465         0         0         0         0          0         0  \n",
      "12466         0         0         0         0          0         0  \n",
      "12467         0         0         0         0          0         0  \n",
      "12468         0         0         0         0          0         0  \n",
      "12469         0         0         0         0          0         0  \n",
      "\n",
      "[10 rows x 516 columns]\n"
     ]
    }
   ],
   "source": [
    "#save names of all companies prior to on-hotencoding\n",
    "unique_companies = df['Name'].unique()\n",
    "\n",
    "# One-hot encode company tickers to differentiate between companies in training\n",
    "df = pd.get_dummies(df, columns=['Name'])\n",
    "\n",
    "print(df.head(10))"
   ]
  },
  {
   "cell_type": "code",
   "execution_count": 10,
   "id": "a143f413-4017-4136-b926-e2405902946d",
   "metadata": {
    "tags": []
   },
   "outputs": [
    {
     "name": "stdout",
     "output_type": "stream",
     "text": [
      "            date   open   high     low  close    volume   7_day_ma  15_day_ma  \\\n",
      "12460 2013-02-08  45.07  45.35  45.000  45.08   1824755        NaN        NaN   \n",
      "12461 2013-02-11  45.17  45.18  44.450  44.60   2915405        NaN        NaN   \n",
      "12462 2013-02-12  44.81  44.95  44.500  44.62   2373731        NaN        NaN   \n",
      "12463 2013-02-13  44.81  45.24  44.680  44.75   2052338        NaN        NaN   \n",
      "12464 2013-02-14  44.72  44.78  44.360  44.58   3826245        NaN        NaN   \n",
      "12465 2013-02-15  43.48  44.24  42.210  42.25  14657315        NaN        NaN   \n",
      "12466 2013-02-19  42.21  43.12  42.210  43.01   4116141  44.127143        NaN   \n",
      "12467 2013-02-20  42.84  42.85  42.225  42.24   3873183  43.721429        NaN   \n",
      "12468 2013-02-21  42.14  42.14  41.470  41.63   3415149  43.297143        NaN   \n",
      "12469 2013-02-22  41.83  42.07  41.580  41.80   3354862  42.894286        NaN   \n",
      "\n",
      "       30_day_ma  daily_returns  ...  daily_returns_lag_5  \\\n",
      "12460        NaN            NaN  ...                  NaN   \n",
      "12461        NaN      -0.010648  ...                  NaN   \n",
      "12462        NaN       0.000448  ...                  NaN   \n",
      "12463        NaN       0.002913  ...                  NaN   \n",
      "12464        NaN      -0.003799  ...                  NaN   \n",
      "12465        NaN      -0.052266  ...                  NaN   \n",
      "12466        NaN       0.017988  ...            -0.010648   \n",
      "12467        NaN      -0.017903  ...             0.000448   \n",
      "12468        NaN      -0.014441  ...             0.002913   \n",
      "12469        NaN       0.004084  ...            -0.003799   \n",
      "\n",
      "       daily_returns_lag_7  daily_returns_lag_15  daily_returns_lag_30  \\\n",
      "12460                  NaN                   NaN                   NaN   \n",
      "12461                  NaN                   NaN                   NaN   \n",
      "12462                  NaN                   NaN                   NaN   \n",
      "12463                  NaN                   NaN                   NaN   \n",
      "12464                  NaN                   NaN                   NaN   \n",
      "12465                  NaN                   NaN                   NaN   \n",
      "12466                  NaN                   NaN                   NaN   \n",
      "12467                  NaN                   NaN                   NaN   \n",
      "12468            -0.010648                   NaN                   NaN   \n",
      "12469             0.000448                   NaN                   NaN   \n",
      "\n",
      "       daily_volatility_lag_1  daily_volatility_lag_3  daily_volatility_lag_5  \\\n",
      "12460                     NaN                     NaN                     NaN   \n",
      "12461                     NaN                     NaN                     NaN   \n",
      "12462                     NaN                     NaN                     NaN   \n",
      "12463                     NaN                     NaN                     NaN   \n",
      "12464                     NaN                     NaN                     NaN   \n",
      "12465                     NaN                     NaN                     NaN   \n",
      "12466                     NaN                     NaN                     NaN   \n",
      "12467                     NaN                     NaN                     NaN   \n",
      "12468                     NaN                     NaN                     NaN   \n",
      "12469                     NaN                     NaN                     NaN   \n",
      "\n",
      "       daily_volatility_lag_7  daily_volatility_lag_15  \\\n",
      "12460                     NaN                      NaN   \n",
      "12461                     NaN                      NaN   \n",
      "12462                     NaN                      NaN   \n",
      "12463                     NaN                      NaN   \n",
      "12464                     NaN                      NaN   \n",
      "12465                     NaN                      NaN   \n",
      "12466                     NaN                      NaN   \n",
      "12467                     NaN                      NaN   \n",
      "12468                     NaN                      NaN   \n",
      "12469                     NaN                      NaN   \n",
      "\n",
      "       daily_volatility_lag_30  \n",
      "12460                      NaN  \n",
      "12461                      NaN  \n",
      "12462                      NaN  \n",
      "12463                      NaN  \n",
      "12464                      NaN  \n",
      "12465                      NaN  \n",
      "12466                      NaN  \n",
      "12467                      NaN  \n",
      "12468                      NaN  \n",
      "12469                      NaN  \n",
      "\n",
      "[10 rows x 570 columns]\n"
     ]
    }
   ],
   "source": [
    "#create columns with lag\n",
    "lag_columns = ['open', 'high', 'low', 'volume', '7_day_ma', '15_day_ma', '30_day_ma', 'daily_returns', 'daily_volatility']\n",
    "#for every company\n",
    "for ticker in unique_companies:\n",
    "    ticker_data = df.loc[df[f'Name_{ticker}'] == 1]  #get all data fora  specific company\n",
    "    for col in lag_columns: #for every column we're creating lag for\n",
    "        for n in [1, 3, 5,7,15,30]: #create lag for days 1,3,5,7,15,30\n",
    "            column_name = f'{col}_lag_{n}' #create new column with afforementioned lag\n",
    "            df.loc[df[f'Name_{ticker}'] == 1, column_name] = ticker_data[col].shift(n)#shift data by that many days\n",
    "\n",
    "print(df.head(10))"
   ]
  },
  {
   "cell_type": "code",
   "execution_count": 11,
   "id": "5fd2ae8a-4912-464b-9e66-e96e9ef9dfd5",
   "metadata": {
    "tags": []
   },
   "outputs": [
    {
     "name": "stdout",
     "output_type": "stream",
     "text": [
      "            date   open    high     low  close    volume   7_day_ma  \\\n",
      "12520 2013-05-07  42.18  42.410  41.900  42.40   3524022  41.662857   \n",
      "12521 2013-05-08  42.40  42.950  42.300  42.94   2119765  41.874286   \n",
      "12522 2013-05-09  42.97  43.195  42.630  43.16   3159293  42.120000   \n",
      "12523 2013-05-10  43.12  43.850  43.040  43.63   4662252  42.451429   \n",
      "12524 2013-05-13  43.43  43.560  42.720  43.04   4260335  42.674286   \n",
      "12525 2013-05-14  42.98  44.060  42.882  43.97   6075845  43.020000   \n",
      "12526 2013-05-15  44.90  46.490  44.890  45.68  10289000  43.545714   \n",
      "12527 2013-05-16  45.43  45.840  44.970  44.99   4890962  43.915714   \n",
      "12528 2013-05-17  45.02  45.830  44.990  45.56   3247851  44.290000   \n",
      "12529 2013-05-20  45.48  47.450  45.390  46.34   5698804  44.744286   \n",
      "\n",
      "       15_day_ma  30_day_ma  daily_returns  ...  daily_returns_lag_5  \\\n",
      "12520  41.933333  42.018333       0.009524  ...            -0.000482   \n",
      "12521  41.983333  42.055667       0.012736  ...            -0.003137   \n",
      "12522  42.072000  42.091333       0.005123  ...             0.004115   \n",
      "12523  42.180667  42.146667       0.010890  ...             0.001688   \n",
      "12524  42.260000  42.217000      -0.013523  ...             0.010830   \n",
      "12525  42.350667  42.327333       0.021608  ...             0.009524   \n",
      "12526  42.539333  42.499333       0.038890  ...             0.012736   \n",
      "12527  42.690000  42.618667      -0.015105  ...             0.005123   \n",
      "12528  42.974000  42.752667       0.012669  ...             0.010890   \n",
      "12529  43.299333  42.908667       0.017120  ...            -0.013523   \n",
      "\n",
      "       daily_returns_lag_7  daily_returns_lag_15  daily_returns_lag_30  \\\n",
      "12520            -0.033466              0.008132             -0.002909   \n",
      "12521             0.003874             -0.027656              0.016776   \n",
      "12522            -0.000482             -0.008533              0.006456   \n",
      "12523            -0.003137              0.004064             -0.002851   \n",
      "12524             0.004115             -0.003571             -0.024780   \n",
      "12525             0.001688              0.018160             -0.006597   \n",
      "12526             0.010830              0.005632             -0.003443   \n",
      "12527             0.009524             -0.002800              0.021964   \n",
      "12528             0.012736             -0.033466              0.003139   \n",
      "12529             0.005123              0.003874              0.002889   \n",
      "\n",
      "       daily_volatility_lag_1  daily_volatility_lag_3  daily_volatility_lag_5  \\\n",
      "12520                0.016187                0.016785                0.017213   \n",
      "12521                0.016249                0.016177                0.017067   \n",
      "12522                0.016132                0.016187                0.016785   \n",
      "12523                0.016118                0.016249                0.016177   \n",
      "12524                0.016201                0.016132                0.016187   \n",
      "12525                0.015696                0.016118                0.016249   \n",
      "12526                0.016017                0.016201                0.016132   \n",
      "12527                0.017270                0.015696                0.016118   \n",
      "12528                0.017277                0.016017                0.016201   \n",
      "12529                0.017369                0.017270                0.015696   \n",
      "\n",
      "       daily_volatility_lag_7  daily_volatility_lag_15  \\\n",
      "12520                0.017317                 0.015512   \n",
      "12521                0.017309                 0.016143   \n",
      "12522                0.017213                 0.015994   \n",
      "12523                0.017067                 0.016020   \n",
      "12524                0.016785                 0.016008   \n",
      "12525                0.016177                 0.016352   \n",
      "12526                0.016187                 0.016362   \n",
      "12527                0.016249                 0.016289   \n",
      "12528                0.016132                 0.017317   \n",
      "12529                0.016118                 0.017309   \n",
      "\n",
      "       daily_volatility_lag_30  \n",
      "12520                 0.014528  \n",
      "12521                 0.014885  \n",
      "12522                 0.014960  \n",
      "12523                 0.014934  \n",
      "12524                 0.015500  \n",
      "12525                 0.012400  \n",
      "12526                 0.011862  \n",
      "12527                 0.012236  \n",
      "12528                 0.011968  \n",
      "12529                 0.011956  \n",
      "\n",
      "[10 rows x 570 columns]\n"
     ]
    }
   ],
   "source": [
    "# drop NaN values\n",
    "df = df.dropna()\n",
    "print(df.head(10))"
   ]
  },
  {
   "cell_type": "code",
   "execution_count": 12,
   "id": "5cb8ce8f-21a9-4459-a789-0a8f84bd6638",
   "metadata": {},
   "outputs": [],
   "source": [
    "#drop one-hot encoded columns\n",
    "columns_to_drop = [col for col in df.columns if col.startswith('Name_')]\n",
    "df = df.drop(columns=columns_to_drop)"
   ]
  },
  {
   "cell_type": "code",
   "execution_count": 13,
   "id": "3e5f89f4-cbbd-4334-932b-e62bf8f8a760",
   "metadata": {},
   "outputs": [],
   "source": [
    "# To export df to a CSV file named 'clean_data.csv'\n",
    "df.to_csv('clean_data.csv', index=False)"
   ]
  },
  {
   "cell_type": "code",
   "execution_count": null,
   "id": "5a5d8e56-93b0-43ee-b24c-b3934bd82435",
   "metadata": {},
   "outputs": [],
   "source": []
  }
 ],
 "metadata": {
  "kernelspec": {
   "display_name": "Python 3 (ipykernel)",
   "language": "python",
   "name": "python3"
  },
  "language_info": {
   "codemirror_mode": {
    "name": "ipython",
    "version": 3
   },
   "file_extension": ".py",
   "mimetype": "text/x-python",
   "name": "python",
   "nbconvert_exporter": "python",
   "pygments_lexer": "ipython3",
   "version": "3.9.12"
  }
 },
 "nbformat": 4,
 "nbformat_minor": 5
}
