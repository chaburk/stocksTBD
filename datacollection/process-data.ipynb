{
 "cells": [
  {
   "cell_type": "markdown",
   "id": "952a6f96-375b-4c5c-b8ae-3bfaa9f5763b",
   "metadata": {},
   "source": [
    "A file used to process the data early in the project. Later replaced by the more comprehensive file: processing.ipynb\n",
    "\n",
    "Author: Sean Brady\n",
    "Nov 5, 2023"
   ]
  },
  {
   "cell_type": "code",
   "execution_count": 1,
   "id": "bc8eff8a-c4f9-495e-8900-4fb22e43125f",
   "metadata": {},
   "outputs": [],
   "source": [
    "import pandas as pd #import modules to handle data"
   ]
  },
  {
   "cell_type": "code",
   "execution_count": 2,
   "id": "94dacb13-7be7-47fb-bccc-e3cb31976e72",
   "metadata": {},
   "outputs": [],
   "source": [
    "#read in data for years 2013-2018\n",
    "df13 = pd.read_csv('stockData/all_stock_data_final-2013.csv', encoding='latin-1')\n",
    "df14 = pd.read_csv('stockData/all_stock_data_final-2014.csv', encoding='latin-1')\n",
    "df15 = pd.read_csv('stockData/all_stock_data_final-2015.csv', encoding='latin-1')\n",
    "df16 = pd.read_csv('stockData/all_stock_data_final-2016.csv', encoding='latin-1')\n",
    "df17 = pd.read_csv('stockData/all_stock_data_final-2017.csv', encoding='latin-1')\n",
    "df18 = pd.read_csv('stockData/all_stock_data_final-2018.csv', encoding='latin-1')\n"
   ]
  },
  {
   "cell_type": "code",
   "execution_count": 3,
   "id": "083fd4ee-e140-45fb-ba66-a48d5938e638",
   "metadata": {
    "collapsed": true,
    "jupyter": {
     "outputs_hidden": true
    },
    "tags": []
   },
   "outputs": [
    {
     "name": "stdout",
     "output_type": "stream",
     "text": [
      "shape for year 2013:\n",
      "\n",
      "(108212, 7)\n",
      "data snippit for year 2013:\n",
      "\n",
      "        date     open     high      low    close     volume  Name\n",
      "0   2/8/2013  67.7142  68.4014  66.8928  67.8542  158168416  AAPL\n",
      "1  2/11/2013  68.0714  69.2771  67.6071  68.5614  129029425  AAPL\n",
      "2  2/12/2013  68.5014  68.9114  66.8205  66.8428  151829363  AAPL\n",
      "3  2/13/2013  66.7442  67.6628  66.1742  66.7156  118721995  AAPL\n",
      "4  2/14/2013  66.3599  67.3771  66.2885  66.6556   88809154  AAPL\n",
      "5  2/15/2013  66.9785  67.1656  65.7028  65.7371   97924631  AAPL\n",
      "6  2/19/2013  65.8714  66.1042  64.8356  65.7128  108854046  AAPL\n",
      "7  2/20/2013  65.3842  65.3842  64.1142  64.1214  118891367  AAPL\n",
      "8  2/21/2013  63.7142  64.1671  63.2599  63.7228  111596821  AAPL\n",
      "9  2/22/2013  64.1785  64.5142  63.7999  64.4014   82583823  AAPL\n",
      "\n",
      "\n",
      "shape for year 2014:\n",
      "\n",
      "(122145, 7)\n",
      "data snippit for year 2014:\n",
      "\n",
      "        date     open     high      low    close     volume  Name\n",
      "0   1/2/2014  79.3828  79.5756  78.8601  79.0185   58791957  AAPL\n",
      "1   1/3/2014  78.9799  79.0999  77.2042  77.2828   98303870  AAPL\n",
      "2   1/6/2014  76.7785  78.1142  76.2285  77.7042  103359151  AAPL\n",
      "3   1/7/2014  77.7599  77.9942  76.8464  77.1481   79432766  AAPL\n",
      "4   1/8/2014  76.9728  77.9371  76.9556  77.6371   64686685  AAPL\n",
      "5   1/9/2014  78.1142  78.1228  76.4785  76.6455   69905199  AAPL\n",
      "6  1/10/2014  77.1185  77.2571  75.8728  76.1342   76320664  AAPL\n",
      "7  1/13/2014  75.7014  77.4999  75.6971  76.5328   94860843  AAPL\n",
      "8  1/14/2014  76.8885  78.1042  76.8085  78.0556   83734371  AAPL\n",
      "9  1/15/2014  79.0742  80.0285  78.8085  79.6228   98472619  AAPL\n",
      "\n",
      "\n",
      "shape for year 2015:\n",
      "\n",
      "(123719, 7)\n",
      "data snippit for year 2015:\n",
      "\n",
      "        date   open    high     low  close   volume Name\n",
      "0   1/2/2015  43.46  43.700  43.065  43.31  1784851  ZTS\n",
      "1   1/5/2015  43.25  43.630  42.970  43.05  3116681  ZTS\n",
      "2   1/6/2015  43.15  43.360  42.295  42.63  3987015  ZTS\n",
      "3   1/7/2015  43.00  43.560  42.980  43.51  2481935  ZTS\n",
      "4   1/8/2015  44.75  44.870  44.000  44.18  3121258  ZTS\n",
      "5   1/9/2015  44.06  44.435  43.680  44.25  2999107  ZTS\n",
      "6  1/12/2015  44.34  44.340  43.285  43.42  2168274  ZTS\n",
      "7  1/13/2015  43.89  44.220  42.570  42.81  3668576  ZTS\n",
      "8  1/14/2015  42.50  43.230  42.290  43.03  2481327  ZTS\n",
      "9  1/15/2015  43.27  43.770  42.900  42.94  2719250  ZTS\n",
      "\n",
      "\n",
      "shape for year 2016:\n",
      "\n",
      "(125072, 7)\n",
      "data snippit for year 2016:\n",
      "\n",
      "        date   open     high    low  close    volume Name\n",
      "0   1/4/2016  41.29  41.3501  40.30  40.91  12037151  AAL\n",
      "1   1/5/2016  41.18  41.4900  39.95  40.52  10514164  AAL\n",
      "2   1/6/2016  40.05  41.7000  40.00  41.23  12393780  AAL\n",
      "3   1/7/2016  40.97  41.5200  39.68  40.45  11312876  AAL\n",
      "4   1/8/2016  40.94  41.3600  40.26  40.37   8853096  AAL\n",
      "5  1/11/2016  40.56  41.2000  39.90  41.08  15877511  AAL\n",
      "6  1/12/2016  41.15  42.3600  40.48  42.00  12635992  AAL\n",
      "7  1/13/2016  42.17  42.7400  39.66  40.10  12718577  AAL\n",
      "8  1/14/2016  40.21  40.7800  38.86  40.55  11756473  AAL\n",
      "9  1/15/2016  39.04  39.8900  38.37  38.76  18924825  AAL\n",
      "\n",
      "\n",
      "shape for year 2017:\n",
      "\n",
      "(125781, 7)\n",
      "data snippit for year 2017:\n",
      "\n",
      "        date   open    high     low  close   volume Name\n",
      "0   1/3/2017  47.28  47.340  46.135  46.30  6737752  AAL\n",
      "1   1/4/2017  46.63  47.435  46.350  46.70  5859604  AAL\n",
      "2   1/5/2017  46.52  46.930  45.610  45.89  6825316  AAL\n",
      "3   1/6/2017  45.85  46.720  45.470  46.21  7260197  AAL\n",
      "4   1/9/2017  46.01  47.340  45.780  47.08  4739142  AAL\n",
      "5  1/10/2017  47.00  48.510  46.970  48.48  7483764  AAL\n",
      "6  1/11/2017  49.29  49.900  48.100  48.64  6925770  AAL\n",
      "7  1/12/2017  48.67  49.000  46.840  48.10  5448098  AAL\n",
      "8  1/13/2017  48.16  48.430  47.540  47.65  3541980  AAL\n",
      "9  1/17/2017  47.56  47.750  46.670  46.75  5350794  AAL\n",
      "\n",
      "\n",
      "shape for year 2018:\n",
      "\n",
      "(13104, 7)\n",
      "data snippit for year 2018:\n",
      "\n",
      "        date   open     high     low  close    volume Name\n",
      "0   1/2/2018  52.33  53.1000  51.900  52.99   4084712  AAL\n",
      "1   1/3/2018  52.86  52.8600  52.055  52.34   5074850  AAL\n",
      "2   1/4/2018  52.48  54.4000  52.265  52.67   3557059  AAL\n",
      "3   1/5/2018  52.78  52.8388  52.430  52.65   2967756  AAL\n",
      "4   1/8/2018  52.60  52.6400  51.930  52.13   3515785  AAL\n",
      "5   1/9/2018  52.97  53.3700  52.005  52.08   3426021  AAL\n",
      "6  1/10/2018  53.23  54.0200  52.880  53.78   7655771  AAL\n",
      "7  1/11/2018  54.49  57.0000  54.180  56.42  11339858  AAL\n",
      "8  1/12/2018  56.56  58.7300  56.560  58.47   7505761  AAL\n",
      "9  1/16/2018  58.79  59.0800  57.530  57.98   5283872  AAL\n",
      "\n",
      "\n"
     ]
    }
   ],
   "source": [
    "#print snippet of data frame for each year\n",
    "for i in range(3,9): #loop through each year\n",
    "    name = f'df1{i}' #construct variable name i.e. df13 or df14\n",
    "    print(f\"shape for year 201{i}:\\n\")\n",
    "    print(globals()[name].shape)\n",
    "    print(f\"data snippit for year 201{i}:\\n\")\n",
    "    print(globals()[name].head(10))\n",
    "    print(\"\\n\")"
   ]
  },
  {
   "cell_type": "code",
   "execution_count": 4,
   "id": "d48fd548-b9be-414f-b808-d318af1ecbd0",
   "metadata": {
    "collapsed": true,
    "jupyter": {
     "outputs_hidden": true
    },
    "tags": []
   },
   "outputs": [
    {
     "name": "stdout",
     "output_type": "stream",
     "text": [
      "(618033, 7)\n",
      "        date     open     high      low    close     volume  Name\n",
      "0   2/8/2013  67.7142  68.4014  66.8928  67.8542  158168416  AAPL\n",
      "1  2/11/2013  68.0714  69.2771  67.6071  68.5614  129029425  AAPL\n",
      "2  2/12/2013  68.5014  68.9114  66.8205  66.8428  151829363  AAPL\n",
      "3  2/13/2013  66.7442  67.6628  66.1742  66.7156  118721995  AAPL\n",
      "4  2/14/2013  66.3599  67.3771  66.2885  66.6556   88809154  AAPL\n",
      "5  2/15/2013  66.9785  67.1656  65.7028  65.7371   97924631  AAPL\n",
      "6  2/19/2013  65.8714  66.1042  64.8356  65.7128  108854046  AAPL\n",
      "7  2/20/2013  65.3842  65.3842  64.1142  64.1214  118891367  AAPL\n",
      "8  2/21/2013  63.7142  64.1671  63.2599  63.7228  111596821  AAPL\n",
      "9  2/22/2013  64.1785  64.5142  63.7999  64.4014   82583823  AAPL\n"
     ]
    }
   ],
   "source": [
    "#combine data from tables for all years\n",
    "df = pd.concat([df13,df14,df15,df16,df17,df18], ignore_index=True)\n",
    "print(df.shape) #print shape of new data frame\n",
    "print(df.head(10)) #print head"
   ]
  },
  {
   "cell_type": "code",
   "execution_count": 5,
   "id": "b01eeff8-5b88-4214-9dfb-5a0fa759c73d",
   "metadata": {
    "tags": []
   },
   "outputs": [],
   "source": [
    "#see all data for a given company, say AAPL\n",
    "#df_apple = df[df['Name'] == 'AAPL']\n",
    "#print(df_apple)"
   ]
  },
  {
   "cell_type": "code",
   "execution_count": 6,
   "id": "6649b642-221e-4d69-9b30-ce3257f4b4a0",
   "metadata": {
    "tags": []
   },
   "outputs": [],
   "source": [
    "#Create new column for price change\n",
    "#df['price_change'] = df['close'] - df['open']\n",
    "#print(df)"
   ]
  },
  {
   "cell_type": "code",
   "execution_count": 7,
   "id": "ff45dd22-f636-4d74-9949-ec114691b718",
   "metadata": {
    "tags": []
   },
   "outputs": [],
   "source": [
    "#calculate x-day moving averages\n",
    "#df['7_day_ma'] = df['close'].rolling(window=7).mean()\n",
    "#df['20_day_ma'] = df['close'].rolling(window=20).mean()\n",
    "#df['30_day_ma'] = df['close'].rolling(window=30).mean()\n",
    "#print(df)"
   ]
  },
  {
   "cell_type": "code",
   "execution_count": 8,
   "id": "3ff2c3bd-4ec6-4f2d-85c2-ddb429d76c27",
   "metadata": {
    "tags": []
   },
   "outputs": [],
   "source": [
    "#print 7 day and 20 day ma's for rows 100-200\n",
    "#very interesting because of how similar they are!\n",
    "#print(df[df['Name']=='AAPL']['7_day_ma'].iloc[100:200])\n",
    "#print(df[df['Name']=='AAPL']['20_day_ma'].iloc[100:200])"
   ]
  },
  {
   "cell_type": "code",
   "execution_count": 9,
   "id": "278643b3-c272-4dcb-bc1c-d1880eca7ab0",
   "metadata": {
    "tags": []
   },
   "outputs": [
    {
     "name": "stdout",
     "output_type": "stream",
     "text": [
      "            date   open   high     low  close    volume Name\n",
      "12460 2013-02-08  45.07  45.35  45.000  45.08   1824755    A\n",
      "12461 2013-02-11  45.17  45.18  44.450  44.60   2915405    A\n",
      "12462 2013-02-12  44.81  44.95  44.500  44.62   2373731    A\n",
      "12463 2013-02-13  44.81  45.24  44.680  44.75   2052338    A\n",
      "12464 2013-02-14  44.72  44.78  44.360  44.58   3826245    A\n",
      "12465 2013-02-15  43.48  44.24  42.210  42.25  14657315    A\n",
      "12466 2013-02-19  42.21  43.12  42.210  43.01   4116141    A\n",
      "12467 2013-02-20  42.84  42.85  42.225  42.24   3873183    A\n",
      "12468 2013-02-21  42.14  42.14  41.470  41.63   3415149    A\n",
      "12469 2013-02-22  41.83  42.07  41.580  41.80   3354862    A\n"
     ]
    }
   ],
   "source": [
    "# Convert the 'date' column to datetime objects this is necessary to ensure dates are sorted properly\n",
    "df['date'] = pd.to_datetime(df['date'])\n",
    "# Sort the DataFrame by 'Name' and 'date' first\n",
    "#sorted so that all data related to company a over all years is shown before company b\n",
    "df = df.sort_values(by=['Name', 'date'])\n",
    "print(df.head(10))"
   ]
  },
  {
   "cell_type": "code",
   "execution_count": 10,
   "id": "936b9ddd-3ba4-4941-93e1-1c7d8fb86f98",
   "metadata": {},
   "outputs": [
    {
     "name": "stdout",
     "output_type": "stream",
     "text": [
      "Empty DataFrame\n",
      "Columns: [date, open, high, low, close, volume, Name]\n",
      "Index: []\n"
     ]
    }
   ],
   "source": [
    "# Filter the DataFrame for the row with the date '2013-02-16'\n",
    "#we don't have all the data\n",
    "row_for_specific_date = df[(df['date'] == '2013-02-16') & (df['Name'] == 'A')]\n",
    "print(row_for_specific_date)\n"
   ]
  },
  {
   "cell_type": "code",
   "execution_count": 11,
   "id": "6740f230-375f-48d4-9acf-859b95887ac3",
   "metadata": {},
   "outputs": [
    {
     "name": "stdout",
     "output_type": "stream",
     "text": [
      "(618033, 10)\n",
      "            date   open   high     low  close    volume Name   7_day_ma  \\\n",
      "12460 2013-02-08  45.07  45.35  45.000  45.08   1824755    A        NaN   \n",
      "12461 2013-02-11  45.17  45.18  44.450  44.60   2915405    A        NaN   \n",
      "12462 2013-02-12  44.81  44.95  44.500  44.62   2373731    A        NaN   \n",
      "12463 2013-02-13  44.81  45.24  44.680  44.75   2052338    A        NaN   \n",
      "12464 2013-02-14  44.72  44.78  44.360  44.58   3826245    A        NaN   \n",
      "12465 2013-02-15  43.48  44.24  42.210  42.25  14657315    A        NaN   \n",
      "12466 2013-02-19  42.21  43.12  42.210  43.01   4116141    A  44.127143   \n",
      "12467 2013-02-20  42.84  42.85  42.225  42.24   3873183    A  43.721429   \n",
      "12468 2013-02-21  42.14  42.14  41.470  41.63   3415149    A  43.297143   \n",
      "12469 2013-02-22  41.83  42.07  41.580  41.80   3354862    A  42.894286   \n",
      "\n",
      "       15_day_ma  30_day_ma  \n",
      "12460        NaN        NaN  \n",
      "12461        NaN        NaN  \n",
      "12462        NaN        NaN  \n",
      "12463        NaN        NaN  \n",
      "12464        NaN        NaN  \n",
      "12465        NaN        NaN  \n",
      "12466        NaN        NaN  \n",
      "12467        NaN        NaN  \n",
      "12468        NaN        NaN  \n",
      "12469        NaN        NaN  \n"
     ]
    }
   ],
   "source": [
    "#calculate moving averages for all companies\n",
    "df['7_day_ma'] = df.groupby('Name')['close'].rolling(window=7).mean().reset_index(level=0, drop=True)\n",
    "df['15_day_ma'] = df.groupby('Name')['close'].rolling(window=15).mean().reset_index(level=0, drop=True)\n",
    "df['30_day_ma'] = df.groupby('Name')['close'].rolling(window=30).mean().reset_index(level=0, drop=True)\n",
    "print(df.shape) #print shape of new data frame\n",
    "print(df.head(10)) #print head"
   ]
  },
  {
   "cell_type": "code",
   "execution_count": 12,
   "id": "b34680eb-2fe5-471c-b0f4-fc6dc60a6973",
   "metadata": {},
   "outputs": [
    {
     "name": "stdout",
     "output_type": "stream",
     "text": [
      "            date   open   high     low  close    volume Name   7_day_ma  \\\n",
      "12460 2013-02-08  45.07  45.35  45.000  45.08   1824755    A        NaN   \n",
      "12461 2013-02-11  45.17  45.18  44.450  44.60   2915405    A        NaN   \n",
      "12462 2013-02-12  44.81  44.95  44.500  44.62   2373731    A        NaN   \n",
      "12463 2013-02-13  44.81  45.24  44.680  44.75   2052338    A        NaN   \n",
      "12464 2013-02-14  44.72  44.78  44.360  44.58   3826245    A        NaN   \n",
      "12465 2013-02-15  43.48  44.24  42.210  42.25  14657315    A        NaN   \n",
      "12466 2013-02-19  42.21  43.12  42.210  43.01   4116141    A  44.127143   \n",
      "12467 2013-02-20  42.84  42.85  42.225  42.24   3873183    A  43.721429   \n",
      "12468 2013-02-21  42.14  42.14  41.470  41.63   3415149    A  43.297143   \n",
      "12469 2013-02-22  41.83  42.07  41.580  41.80   3354862    A  42.894286   \n",
      "\n",
      "       15_day_ma  30_day_ma  daily_returns  \n",
      "12460        NaN        NaN            NaN  \n",
      "12461        NaN        NaN      -0.010648  \n",
      "12462        NaN        NaN       0.000448  \n",
      "12463        NaN        NaN       0.002913  \n",
      "12464        NaN        NaN      -0.003799  \n",
      "12465        NaN        NaN      -0.052266  \n",
      "12466        NaN        NaN       0.017988  \n",
      "12467        NaN        NaN      -0.017903  \n",
      "12468        NaN        NaN      -0.014441  \n",
      "12469        NaN        NaN       0.004084  \n"
     ]
    }
   ],
   "source": [
    "\n",
    "# Calculate daily returns for each company\n",
    "df['daily_returns'] = df.groupby('Name')['close'].pct_change()\n",
    "\n",
    "# Calculate the rolling standard deviation of daily returns over a 30-day window for each company.\n",
    "# This represents the daily volatility.\n",
    "#window_size = 30  # This is the rolling window size, can be changed according to your preference.\n",
    "#df['daily_volatility'] = df.groupby('Name')['daily_returns'].rolling(window=window_size).std()\n",
    "\n",
    "# Reset the index so that 'daily_volatility' is aligned with the DataFrame.\n",
    "#df['daily_volatility'] = df['daily_volatility'].reset_index(level=0, drop=True)\n",
    "\n",
    "print(df.head(10))\n"
   ]
  },
  {
   "cell_type": "code",
   "execution_count": 13,
   "id": "b288aa98-7452-41f2-9a82-69da2356748e",
   "metadata": {},
   "outputs": [],
   "source": [
    "#create column for daily volatility over window_size time frame\n",
    "window_size = 30  # change as needed\n",
    "df['daily_volatility'] = df.groupby('Name')['daily_returns'].rolling(window=window_size).std().reset_index(level=0, drop=True)\n"
   ]
  },
  {
   "cell_type": "code",
   "execution_count": 14,
   "id": "e186f915-d46a-4988-a63d-a74063cc86f3",
   "metadata": {},
   "outputs": [
    {
     "name": "stdout",
     "output_type": "stream",
     "text": [
      "            date   open   high     low  close    volume Name   7_day_ma  \\\n",
      "12460 2013-02-08  45.07  45.35  45.000  45.08   1824755    A        NaN   \n",
      "12461 2013-02-11  45.17  45.18  44.450  44.60   2915405    A        NaN   \n",
      "12462 2013-02-12  44.81  44.95  44.500  44.62   2373731    A        NaN   \n",
      "12463 2013-02-13  44.81  45.24  44.680  44.75   2052338    A        NaN   \n",
      "12464 2013-02-14  44.72  44.78  44.360  44.58   3826245    A        NaN   \n",
      "12465 2013-02-15  43.48  44.24  42.210  42.25  14657315    A        NaN   \n",
      "12466 2013-02-19  42.21  43.12  42.210  43.01   4116141    A  44.127143   \n",
      "12467 2013-02-20  42.84  42.85  42.225  42.24   3873183    A  43.721429   \n",
      "12468 2013-02-21  42.14  42.14  41.470  41.63   3415149    A  43.297143   \n",
      "12469 2013-02-22  41.83  42.07  41.580  41.80   3354862    A  42.894286   \n",
      "\n",
      "       15_day_ma  30_day_ma  daily_returns  daily_volatility  target  \n",
      "12460        NaN        NaN            NaN               NaN       0  \n",
      "12461        NaN        NaN      -0.010648               NaN       0  \n",
      "12462        NaN        NaN       0.000448               NaN       1  \n",
      "12463        NaN        NaN       0.002913               NaN       1  \n",
      "12464        NaN        NaN      -0.003799               NaN       0  \n",
      "12465        NaN        NaN      -0.052266               NaN       0  \n",
      "12466        NaN        NaN       0.017988               NaN       1  \n",
      "12467        NaN        NaN      -0.017903               NaN       0  \n",
      "12468        NaN        NaN      -0.014441               NaN       0  \n",
      "12469        NaN        NaN       0.004084               NaN       1  \n"
     ]
    }
   ],
   "source": [
    "#determine whether price has increased (1) or decreased (0) for the day. \n",
    "df['target'] = (df.groupby('Name')['close'].diff() > 0).astype(int)\n",
    "print(df.head(10))"
   ]
  },
  {
   "cell_type": "code",
   "execution_count": 15,
   "id": "efa087ea-c145-476f-8c8b-c76bd2a790cf",
   "metadata": {},
   "outputs": [],
   "source": [
    "# To export df to a CSV file named 'stock_data.csv'\n",
    "df.to_csv('stock_data.csv', index=False)"
   ]
  }
 ],
 "metadata": {
  "kernelspec": {
   "display_name": "Python 3 (ipykernel)",
   "language": "python",
   "name": "python3"
  },
  "language_info": {
   "codemirror_mode": {
    "name": "ipython",
    "version": 3
   },
   "file_extension": ".py",
   "mimetype": "text/x-python",
   "name": "python",
   "nbconvert_exporter": "python",
   "pygments_lexer": "ipython3",
   "version": "3.9.12"
  }
 },
 "nbformat": 4,
 "nbformat_minor": 5
}
