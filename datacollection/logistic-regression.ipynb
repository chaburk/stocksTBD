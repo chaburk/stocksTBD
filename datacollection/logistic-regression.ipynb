{
 "cells": [
  {
   "cell_type": "code",
   "execution_count": null,
   "id": "4ce9b6e8-0426-4fef-a260-16cfdfa8477c",
   "metadata": {},
   "outputs": [],
   "source": []
  },
  {
   "cell_type": "code",
   "execution_count": 1,
   "id": "d4066414-8fbf-4a5a-ac60-8a59324041f1",
   "metadata": {},
   "outputs": [],
   "source": [
    "import pandas as pd\n",
    "from sklearn.linear_model import LogisticRegression\n",
    "from sklearn.metrics import classification_report\n",
    "from sklearn.preprocessing import StandardScaler\n",
    "from sklearn.model_selection import train_test_split"
   ]
  },
  {
   "cell_type": "code",
   "execution_count": 2,
   "id": "7aa8ba98-7eb8-477e-8dba-cafad2183980",
   "metadata": {},
   "outputs": [],
   "source": [
    "# create data frame\n",
    "df = pd.read_csv('stock_data.csv')"
   ]
  },
  {
   "cell_type": "code",
   "execution_count": 3,
   "id": "566eb94c-2f7e-4c61-9b2a-4ffed9c81a45",
   "metadata": {},
   "outputs": [
    {
     "name": "stdout",
     "output_type": "stream",
     "text": [
      "         date   open   high     low  close    volume Name   7_day_ma  \\\n",
      "0  2013-02-08  45.07  45.35  45.000  45.08   1824755    A        NaN   \n",
      "1  2013-02-11  45.17  45.18  44.450  44.60   2915405    A        NaN   \n",
      "2  2013-02-12  44.81  44.95  44.500  44.62   2373731    A        NaN   \n",
      "3  2013-02-13  44.81  45.24  44.680  44.75   2052338    A        NaN   \n",
      "4  2013-02-14  44.72  44.78  44.360  44.58   3826245    A        NaN   \n",
      "5  2013-02-15  43.48  44.24  42.210  42.25  14657315    A        NaN   \n",
      "6  2013-02-19  42.21  43.12  42.210  43.01   4116141    A  44.127143   \n",
      "7  2013-02-20  42.84  42.85  42.225  42.24   3873183    A  43.721429   \n",
      "8  2013-02-21  42.14  42.14  41.470  41.63   3415149    A  43.297143   \n",
      "9  2013-02-22  41.83  42.07  41.580  41.80   3354862    A  42.894286   \n",
      "\n",
      "   15_day_ma  30_day_ma  daily_returns  daily_volatility  target  \n",
      "0        NaN        NaN            NaN               NaN       0  \n",
      "1        NaN        NaN      -0.010648               NaN       0  \n",
      "2        NaN        NaN       0.000448               NaN       1  \n",
      "3        NaN        NaN       0.002913               NaN       1  \n",
      "4        NaN        NaN      -0.003799               NaN       0  \n",
      "5        NaN        NaN      -0.052266               NaN       0  \n",
      "6        NaN        NaN       0.017988               NaN       1  \n",
      "7        NaN        NaN      -0.017903               NaN       0  \n",
      "8        NaN        NaN      -0.014441               NaN       0  \n",
      "9        NaN        NaN       0.004084               NaN       1  \n"
     ]
    }
   ],
   "source": [
    "print(df.head(10))#print a few lines"
   ]
  },
  {
   "cell_type": "code",
   "execution_count": 4,
   "id": "3860276d-5b73-48a6-989f-895168e3b145",
   "metadata": {},
   "outputs": [
    {
     "name": "stdout",
     "output_type": "stream",
     "text": [
      "        date   open   high     low  close    volume Name   7_day_ma  \\\n",
      "0 2013-02-08  45.07  45.35  45.000  45.08   1824755    A        NaN   \n",
      "1 2013-02-11  45.17  45.18  44.450  44.60   2915405    A        NaN   \n",
      "2 2013-02-12  44.81  44.95  44.500  44.62   2373731    A        NaN   \n",
      "3 2013-02-13  44.81  45.24  44.680  44.75   2052338    A        NaN   \n",
      "4 2013-02-14  44.72  44.78  44.360  44.58   3826245    A        NaN   \n",
      "5 2013-02-15  43.48  44.24  42.210  42.25  14657315    A        NaN   \n",
      "6 2013-02-19  42.21  43.12  42.210  43.01   4116141    A  44.127143   \n",
      "7 2013-02-20  42.84  42.85  42.225  42.24   3873183    A  43.721429   \n",
      "8 2013-02-21  42.14  42.14  41.470  41.63   3415149    A  43.297143   \n",
      "9 2013-02-22  41.83  42.07  41.580  41.80   3354862    A  42.894286   \n",
      "\n",
      "   15_day_ma  30_day_ma  daily_returns  daily_volatility  target  year  month  \\\n",
      "0        NaN        NaN            NaN               NaN       0  2013      2   \n",
      "1        NaN        NaN      -0.010648               NaN       0  2013      2   \n",
      "2        NaN        NaN       0.000448               NaN       1  2013      2   \n",
      "3        NaN        NaN       0.002913               NaN       1  2013      2   \n",
      "4        NaN        NaN      -0.003799               NaN       0  2013      2   \n",
      "5        NaN        NaN      -0.052266               NaN       0  2013      2   \n",
      "6        NaN        NaN       0.017988               NaN       1  2013      2   \n",
      "7        NaN        NaN      -0.017903               NaN       0  2013      2   \n",
      "8        NaN        NaN      -0.014441               NaN       0  2013      2   \n",
      "9        NaN        NaN       0.004084               NaN       1  2013      2   \n",
      "\n",
      "   day  \n",
      "0    8  \n",
      "1   11  \n",
      "2   12  \n",
      "3   13  \n",
      "4   14  \n",
      "5   15  \n",
      "6   19  \n",
      "7   20  \n",
      "8   21  \n",
      "9   22  \n"
     ]
    }
   ],
   "source": [
    "# transform date to datetime, get year,month,day from date column\n",
    "df['date'] = pd.to_datetime(df['date'])\n",
    "df['year'] = df['date'].dt.year\n",
    "df['month'] = df['date'].dt.month\n",
    "df['day'] = df['date'].dt.day\n",
    "\n",
    "print(df.head(10))"
   ]
  },
  {
   "cell_type": "code",
   "execution_count": null,
   "id": "27cf7ccb-bbc2-45ac-be2e-420f495ab677",
   "metadata": {},
   "outputs": [],
   "source": [
    "#create features column\n",
    "feature_columns = [col for col in data.columns if col not in ['date', 'target']]\n",
    "X = data[feature_columns]\n",
    "y = data['target']"
   ]
  }
 ],
 "metadata": {
  "kernelspec": {
   "display_name": "Python 3 (ipykernel)",
   "language": "python",
   "name": "python3"
  },
  "language_info": {
   "codemirror_mode": {
    "name": "ipython",
    "version": 3
   },
   "file_extension": ".py",
   "mimetype": "text/x-python",
   "name": "python",
   "nbconvert_exporter": "python",
   "pygments_lexer": "ipython3",
   "version": "3.9.12"
  }
 },
 "nbformat": 4,
 "nbformat_minor": 5
}
