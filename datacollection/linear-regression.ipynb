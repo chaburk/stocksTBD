{
 "cells": [
  {
   "cell_type": "code",
   "execution_count": 1,
   "id": "34429d04-c283-4158-b6fd-2cebdc73e239",
   "metadata": {},
   "outputs": [],
   "source": [
    "#import necessary libraries\n",
    "from sklearn.linear_model import LinearRegression\n",
    "from sklearn.metrics import mean_squared_error, r2_score\n",
    "from sklearn.model_selection import train_test_split\n",
    "from sklearn.preprocessing import StandardScaler\n",
    "import pandas as pd"
   ]
  },
  {
   "cell_type": "code",
   "execution_count": 2,
   "id": "d4c22c4e-2288-477d-bc8b-a6038729751b",
   "metadata": {
    "tags": []
   },
   "outputs": [
    {
     "name": "stdout",
     "output_type": "stream",
     "text": [
      "         date   open   high     low  close    volume Name   7_day_ma  \\\n",
      "0  2013-02-08  45.07  45.35  45.000  45.08   1824755    A        NaN   \n",
      "1  2013-02-11  45.17  45.18  44.450  44.60   2915405    A        NaN   \n",
      "2  2013-02-12  44.81  44.95  44.500  44.62   2373731    A        NaN   \n",
      "3  2013-02-13  44.81  45.24  44.680  44.75   2052338    A        NaN   \n",
      "4  2013-02-14  44.72  44.78  44.360  44.58   3826245    A        NaN   \n",
      "5  2013-02-15  43.48  44.24  42.210  42.25  14657315    A        NaN   \n",
      "6  2013-02-19  42.21  43.12  42.210  43.01   4116141    A  44.127143   \n",
      "7  2013-02-20  42.84  42.85  42.225  42.24   3873183    A  43.721429   \n",
      "8  2013-02-21  42.14  42.14  41.470  41.63   3415149    A  43.297143   \n",
      "9  2013-02-22  41.83  42.07  41.580  41.80   3354862    A  42.894286   \n",
      "\n",
      "   15_day_ma  30_day_ma  daily_returns  daily_volatility  target  \n",
      "0        NaN        NaN            NaN               NaN       0  \n",
      "1        NaN        NaN      -0.010648               NaN       0  \n",
      "2        NaN        NaN       0.000448               NaN       1  \n",
      "3        NaN        NaN       0.002913               NaN       1  \n",
      "4        NaN        NaN      -0.003799               NaN       0  \n",
      "5        NaN        NaN      -0.052266               NaN       0  \n",
      "6        NaN        NaN       0.017988               NaN       1  \n",
      "7        NaN        NaN      -0.017903               NaN       0  \n",
      "8        NaN        NaN      -0.014441               NaN       0  \n",
      "9        NaN        NaN       0.004084               NaN       1  \n"
     ]
    }
   ],
   "source": [
    "# create data frame\n",
    "df = pd.read_csv('stock_data.csv')\n",
    "print(df.head(10))"
   ]
  },
  {
   "cell_type": "code",
   "execution_count": 3,
   "id": "e58d137d-a385-4cc2-ae4e-44e237f83dd2",
   "metadata": {
    "tags": []
   },
   "outputs": [
    {
     "name": "stdout",
     "output_type": "stream",
     "text": [
      "         date   open   high     low  close    volume Name   7_day_ma  \\\n",
      "0  2013-02-08  45.07  45.35  45.000  45.08   1824755    A        NaN   \n",
      "1  2013-02-11  45.17  45.18  44.450  44.60   2915405    A        NaN   \n",
      "2  2013-02-12  44.81  44.95  44.500  44.62   2373731    A        NaN   \n",
      "3  2013-02-13  44.81  45.24  44.680  44.75   2052338    A        NaN   \n",
      "4  2013-02-14  44.72  44.78  44.360  44.58   3826245    A        NaN   \n",
      "5  2013-02-15  43.48  44.24  42.210  42.25  14657315    A        NaN   \n",
      "6  2013-02-19  42.21  43.12  42.210  43.01   4116141    A  44.127143   \n",
      "7  2013-02-20  42.84  42.85  42.225  42.24   3873183    A  43.721429   \n",
      "8  2013-02-21  42.14  42.14  41.470  41.63   3415149    A  43.297143   \n",
      "9  2013-02-22  41.83  42.07  41.580  41.80   3354862    A  42.894286   \n",
      "\n",
      "   15_day_ma  30_day_ma  daily_returns  daily_volatility  \n",
      "0        NaN        NaN            NaN               NaN  \n",
      "1        NaN        NaN      -0.010648               NaN  \n",
      "2        NaN        NaN       0.000448               NaN  \n",
      "3        NaN        NaN       0.002913               NaN  \n",
      "4        NaN        NaN      -0.003799               NaN  \n",
      "5        NaN        NaN      -0.052266               NaN  \n",
      "6        NaN        NaN       0.017988               NaN  \n",
      "7        NaN        NaN      -0.017903               NaN  \n",
      "8        NaN        NaN      -0.014441               NaN  \n",
      "9        NaN        NaN       0.004084               NaN  \n"
     ]
    }
   ],
   "source": [
    "#remove target column. Not necessary for our purposes\n",
    "df.drop('target', axis=1, inplace=True)\n",
    "print(df.head(10))"
   ]
  },
  {
   "cell_type": "code",
   "execution_count": 4,
   "id": "d345ec08-cd53-4d28-bebc-f05623603f6c",
   "metadata": {
    "tags": []
   },
   "outputs": [
    {
     "name": "stdout",
     "output_type": "stream",
     "text": [
      "        date   open   high     low  close    volume Name   7_day_ma  \\\n",
      "0 2013-02-08  45.07  45.35  45.000  45.08   1824755    A        NaN   \n",
      "1 2013-02-11  45.17  45.18  44.450  44.60   2915405    A        NaN   \n",
      "2 2013-02-12  44.81  44.95  44.500  44.62   2373731    A        NaN   \n",
      "3 2013-02-13  44.81  45.24  44.680  44.75   2052338    A        NaN   \n",
      "4 2013-02-14  44.72  44.78  44.360  44.58   3826245    A        NaN   \n",
      "5 2013-02-15  43.48  44.24  42.210  42.25  14657315    A        NaN   \n",
      "6 2013-02-19  42.21  43.12  42.210  43.01   4116141    A  44.127143   \n",
      "7 2013-02-20  42.84  42.85  42.225  42.24   3873183    A  43.721429   \n",
      "8 2013-02-21  42.14  42.14  41.470  41.63   3415149    A  43.297143   \n",
      "9 2013-02-22  41.83  42.07  41.580  41.80   3354862    A  42.894286   \n",
      "\n",
      "   15_day_ma  30_day_ma  daily_returns  daily_volatility  year  month  day  \n",
      "0        NaN        NaN            NaN               NaN  2013      2    8  \n",
      "1        NaN        NaN      -0.010648               NaN  2013      2   11  \n",
      "2        NaN        NaN       0.000448               NaN  2013      2   12  \n",
      "3        NaN        NaN       0.002913               NaN  2013      2   13  \n",
      "4        NaN        NaN      -0.003799               NaN  2013      2   14  \n",
      "5        NaN        NaN      -0.052266               NaN  2013      2   15  \n",
      "6        NaN        NaN       0.017988               NaN  2013      2   19  \n",
      "7        NaN        NaN      -0.017903               NaN  2013      2   20  \n",
      "8        NaN        NaN      -0.014441               NaN  2013      2   21  \n",
      "9        NaN        NaN       0.004084               NaN  2013      2   22  \n"
     ]
    }
   ],
   "source": [
    "# transform date to datetime, get year,month,day from date column\n",
    "df['date'] = pd.to_datetime(df['date'])\n",
    "df['year'] = df['date'].dt.year\n",
    "df['month'] = df['date'].dt.month\n",
    "df['day'] = df['date'].dt.day\n",
    "\n",
    "print(df.head(10))"
   ]
  },
  {
   "cell_type": "code",
   "execution_count": 5,
   "id": "5551d561-4567-4794-86a3-5e192032100f",
   "metadata": {
    "tags": []
   },
   "outputs": [
    {
     "name": "stdout",
     "output_type": "stream",
     "text": [
      "        date   open   high     low  close    volume   7_day_ma  15_day_ma  \\\n",
      "0 2013-02-08  45.07  45.35  45.000  45.08   1824755        NaN        NaN   \n",
      "1 2013-02-11  45.17  45.18  44.450  44.60   2915405        NaN        NaN   \n",
      "2 2013-02-12  44.81  44.95  44.500  44.62   2373731        NaN        NaN   \n",
      "3 2013-02-13  44.81  45.24  44.680  44.75   2052338        NaN        NaN   \n",
      "4 2013-02-14  44.72  44.78  44.360  44.58   3826245        NaN        NaN   \n",
      "5 2013-02-15  43.48  44.24  42.210  42.25  14657315        NaN        NaN   \n",
      "6 2013-02-19  42.21  43.12  42.210  43.01   4116141  44.127143        NaN   \n",
      "7 2013-02-20  42.84  42.85  42.225  42.24   3873183  43.721429        NaN   \n",
      "8 2013-02-21  42.14  42.14  41.470  41.63   3415149  43.297143        NaN   \n",
      "9 2013-02-22  41.83  42.07  41.580  41.80   3354862  42.894286        NaN   \n",
      "\n",
      "   30_day_ma  daily_returns  ...  Name_XL  Name_XLNX  Name_XOM  Name_XRAY  \\\n",
      "0        NaN            NaN  ...        0          0         0          0   \n",
      "1        NaN      -0.010648  ...        0          0         0          0   \n",
      "2        NaN       0.000448  ...        0          0         0          0   \n",
      "3        NaN       0.002913  ...        0          0         0          0   \n",
      "4        NaN      -0.003799  ...        0          0         0          0   \n",
      "5        NaN      -0.052266  ...        0          0         0          0   \n",
      "6        NaN       0.017988  ...        0          0         0          0   \n",
      "7        NaN      -0.017903  ...        0          0         0          0   \n",
      "8        NaN      -0.014441  ...        0          0         0          0   \n",
      "9        NaN       0.004084  ...        0          0         0          0   \n",
      "\n",
      "   Name_XRX  Name_XYL  Name_YUM  Name_ZBH  Name_ZION  Name_ZTS  \n",
      "0         0         0         0         0          0         0  \n",
      "1         0         0         0         0          0         0  \n",
      "2         0         0         0         0          0         0  \n",
      "3         0         0         0         0          0         0  \n",
      "4         0         0         0         0          0         0  \n",
      "5         0         0         0         0          0         0  \n",
      "6         0         0         0         0          0         0  \n",
      "7         0         0         0         0          0         0  \n",
      "8         0         0         0         0          0         0  \n",
      "9         0         0         0         0          0         0  \n",
      "\n",
      "[10 rows x 519 columns]\n"
     ]
    }
   ],
   "source": [
    "#save names of all companies prior to on-hotencoding\n",
    "unique_companies = df['Name'].unique()\n",
    "\n",
    "# One-hot encode company tickers to differentiate between companies in training\n",
    "df = pd.get_dummies(df, columns=['Name'])\n",
    "\n",
    "print(df.head(10))"
   ]
  },
  {
   "cell_type": "code",
   "execution_count": 6,
   "id": "4bda4e58-e8e4-4847-a117-087c42735cb4",
   "metadata": {
    "tags": []
   },
   "outputs": [
    {
     "name": "stdout",
     "output_type": "stream",
     "text": [
      "        date   open   high     low  close    volume   7_day_ma  15_day_ma  \\\n",
      "0 2013-02-08  45.07  45.35  45.000  45.08   1824755        NaN        NaN   \n",
      "1 2013-02-11  45.17  45.18  44.450  44.60   2915405        NaN        NaN   \n",
      "2 2013-02-12  44.81  44.95  44.500  44.62   2373731        NaN        NaN   \n",
      "3 2013-02-13  44.81  45.24  44.680  44.75   2052338        NaN        NaN   \n",
      "4 2013-02-14  44.72  44.78  44.360  44.58   3826245        NaN        NaN   \n",
      "5 2013-02-15  43.48  44.24  42.210  42.25  14657315        NaN        NaN   \n",
      "6 2013-02-19  42.21  43.12  42.210  43.01   4116141  44.127143        NaN   \n",
      "7 2013-02-20  42.84  42.85  42.225  42.24   3873183  43.721429        NaN   \n",
      "8 2013-02-21  42.14  42.14  41.470  41.63   3415149  43.297143        NaN   \n",
      "9 2013-02-22  41.83  42.07  41.580  41.80   3354862  42.894286        NaN   \n",
      "\n",
      "   30_day_ma  daily_returns  ...  daily_returns_lag_5  daily_returns_lag_7  \\\n",
      "0        NaN            NaN  ...                  NaN                  NaN   \n",
      "1        NaN      -0.010648  ...                  NaN                  NaN   \n",
      "2        NaN       0.000448  ...                  NaN                  NaN   \n",
      "3        NaN       0.002913  ...                  NaN                  NaN   \n",
      "4        NaN      -0.003799  ...                  NaN                  NaN   \n",
      "5        NaN      -0.052266  ...                  NaN                  NaN   \n",
      "6        NaN       0.017988  ...            -0.010648                  NaN   \n",
      "7        NaN      -0.017903  ...             0.000448                  NaN   \n",
      "8        NaN      -0.014441  ...             0.002913            -0.010648   \n",
      "9        NaN       0.004084  ...            -0.003799             0.000448   \n",
      "\n",
      "   daily_returns_lag_15  daily_returns_lag_30  daily_volatility_lag_1  \\\n",
      "0                   NaN                   NaN                     NaN   \n",
      "1                   NaN                   NaN                     NaN   \n",
      "2                   NaN                   NaN                     NaN   \n",
      "3                   NaN                   NaN                     NaN   \n",
      "4                   NaN                   NaN                     NaN   \n",
      "5                   NaN                   NaN                     NaN   \n",
      "6                   NaN                   NaN                     NaN   \n",
      "7                   NaN                   NaN                     NaN   \n",
      "8                   NaN                   NaN                     NaN   \n",
      "9                   NaN                   NaN                     NaN   \n",
      "\n",
      "   daily_volatility_lag_3  daily_volatility_lag_5  daily_volatility_lag_7  \\\n",
      "0                     NaN                     NaN                     NaN   \n",
      "1                     NaN                     NaN                     NaN   \n",
      "2                     NaN                     NaN                     NaN   \n",
      "3                     NaN                     NaN                     NaN   \n",
      "4                     NaN                     NaN                     NaN   \n",
      "5                     NaN                     NaN                     NaN   \n",
      "6                     NaN                     NaN                     NaN   \n",
      "7                     NaN                     NaN                     NaN   \n",
      "8                     NaN                     NaN                     NaN   \n",
      "9                     NaN                     NaN                     NaN   \n",
      "\n",
      "   daily_volatility_lag_15  daily_volatility_lag_30  \n",
      "0                      NaN                      NaN  \n",
      "1                      NaN                      NaN  \n",
      "2                      NaN                      NaN  \n",
      "3                      NaN                      NaN  \n",
      "4                      NaN                      NaN  \n",
      "5                      NaN                      NaN  \n",
      "6                      NaN                      NaN  \n",
      "7                      NaN                      NaN  \n",
      "8                      NaN                      NaN  \n",
      "9                      NaN                      NaN  \n",
      "\n",
      "[10 rows x 573 columns]\n"
     ]
    }
   ],
   "source": [
    "#create columns with lag\n",
    "lag_columns = ['open', 'high', 'low', 'volume', '7_day_ma', '15_day_ma', '30_day_ma', 'daily_returns', 'daily_volatility']\n",
    "#for every company\n",
    "for ticker in unique_companies:\n",
    "    ticker_data = df.loc[df[f'Name_{ticker}'] == 1]  #get all data fora  specific company\n",
    "    for col in lag_columns: #for every column we're creating lag for\n",
    "        for n in [1, 3, 5,7,15,30]: #create lag for days 1,3,5,7,15,30\n",
    "            column_name = f'{col}_lag_{n}' #create new column with afforementioned lag\n",
    "            df.loc[df[f'Name_{ticker}'] == 1, column_name] = ticker_data[col].shift(n)#shift data by that many days\n",
    "\n",
    "print(df.head(10))"
   ]
  },
  {
   "cell_type": "code",
   "execution_count": 7,
   "id": "0f689d0e-7cb9-4f08-bb29-ec01a9345a68",
   "metadata": {
    "tags": []
   },
   "outputs": [
    {
     "name": "stdout",
     "output_type": "stream",
     "text": [
      "         date   open    high     low  close    volume   7_day_ma  15_day_ma  \\\n",
      "60 2013-05-07  42.18  42.410  41.900  42.40   3524022  41.662857  41.933333   \n",
      "61 2013-05-08  42.40  42.950  42.300  42.94   2119765  41.874286  41.983333   \n",
      "62 2013-05-09  42.97  43.195  42.630  43.16   3159293  42.120000  42.072000   \n",
      "63 2013-05-10  43.12  43.850  43.040  43.63   4662252  42.451429  42.180667   \n",
      "64 2013-05-13  43.43  43.560  42.720  43.04   4260335  42.674286  42.260000   \n",
      "65 2013-05-14  42.98  44.060  42.882  43.97   6075845  43.020000  42.350667   \n",
      "66 2013-05-15  44.90  46.490  44.890  45.68  10289000  43.545714  42.539333   \n",
      "67 2013-05-16  45.43  45.840  44.970  44.99   4890962  43.915714  42.690000   \n",
      "68 2013-05-17  45.02  45.830  44.990  45.56   3247851  44.290000  42.974000   \n",
      "69 2013-05-20  45.48  47.450  45.390  46.34   5698804  44.744286  43.299333   \n",
      "\n",
      "    30_day_ma  daily_returns  ...  daily_returns_lag_5  daily_returns_lag_7  \\\n",
      "60  42.018333       0.009524  ...            -0.000482            -0.033466   \n",
      "61  42.055667       0.012736  ...            -0.003137             0.003874   \n",
      "62  42.091333       0.005123  ...             0.004115            -0.000482   \n",
      "63  42.146667       0.010890  ...             0.001688            -0.003137   \n",
      "64  42.217000      -0.013523  ...             0.010830             0.004115   \n",
      "65  42.327333       0.021608  ...             0.009524             0.001688   \n",
      "66  42.499333       0.038890  ...             0.012736             0.010830   \n",
      "67  42.618667      -0.015105  ...             0.005123             0.009524   \n",
      "68  42.752667       0.012669  ...             0.010890             0.012736   \n",
      "69  42.908667       0.017120  ...            -0.013523             0.005123   \n",
      "\n",
      "    daily_returns_lag_15  daily_returns_lag_30  daily_volatility_lag_1  \\\n",
      "60              0.008132             -0.002909                0.016187   \n",
      "61             -0.027656              0.016776                0.016249   \n",
      "62             -0.008533              0.006456                0.016132   \n",
      "63              0.004064             -0.002851                0.016118   \n",
      "64             -0.003571             -0.024780                0.016201   \n",
      "65              0.018160             -0.006597                0.015696   \n",
      "66              0.005632             -0.003443                0.016017   \n",
      "67             -0.002800              0.021964                0.017270   \n",
      "68             -0.033466              0.003139                0.017277   \n",
      "69              0.003874              0.002889                0.017369   \n",
      "\n",
      "    daily_volatility_lag_3  daily_volatility_lag_5  daily_volatility_lag_7  \\\n",
      "60                0.016785                0.017213                0.017317   \n",
      "61                0.016177                0.017067                0.017309   \n",
      "62                0.016187                0.016785                0.017213   \n",
      "63                0.016249                0.016177                0.017067   \n",
      "64                0.016132                0.016187                0.016785   \n",
      "65                0.016118                0.016249                0.016177   \n",
      "66                0.016201                0.016132                0.016187   \n",
      "67                0.015696                0.016118                0.016249   \n",
      "68                0.016017                0.016201                0.016132   \n",
      "69                0.017270                0.015696                0.016118   \n",
      "\n",
      "    daily_volatility_lag_15  daily_volatility_lag_30  \n",
      "60                 0.015512                 0.014528  \n",
      "61                 0.016143                 0.014885  \n",
      "62                 0.015994                 0.014960  \n",
      "63                 0.016020                 0.014934  \n",
      "64                 0.016008                 0.015500  \n",
      "65                 0.016352                 0.012400  \n",
      "66                 0.016362                 0.011862  \n",
      "67                 0.016289                 0.012236  \n",
      "68                 0.017317                 0.011968  \n",
      "69                 0.017309                 0.011956  \n",
      "\n",
      "[10 rows x 573 columns]\n"
     ]
    }
   ],
   "source": [
    "# drop NaN values\n",
    "df = df.dropna()\n",
    "print(df.head(10))"
   ]
  },
  {
   "cell_type": "code",
   "execution_count": 8,
   "id": "e9a44b77-1ce1-4271-a3b5-6c2343caf02c",
   "metadata": {},
   "outputs": [],
   "source": [
    "#drop one-hot encoded columns\n",
    "columns_to_drop = [col for col in df.columns if col.startswith('Name_')]\n",
    "df = df.drop(columns=columns_to_drop)"
   ]
  },
  {
   "cell_type": "code",
   "execution_count": 9,
   "id": "53a2def4-cf2b-49df-940b-632980dd7476",
   "metadata": {
    "tags": []
   },
   "outputs": [
    {
     "name": "stdout",
     "output_type": "stream",
     "text": [
      "['year', 'month', 'day', 'open_lag_1', 'open_lag_3', 'open_lag_5', 'open_lag_7', 'open_lag_15', 'open_lag_30', 'high_lag_1', 'high_lag_3', 'high_lag_5', 'high_lag_7', 'high_lag_15', 'high_lag_30', 'low_lag_1', 'low_lag_3', 'low_lag_5', 'low_lag_7', 'low_lag_15', 'low_lag_30', 'volume_lag_1', 'volume_lag_3', 'volume_lag_5', 'volume_lag_7', 'volume_lag_15', 'volume_lag_30', '7_day_ma_lag_1', '7_day_ma_lag_3', '7_day_ma_lag_5', '7_day_ma_lag_7', '7_day_ma_lag_15', '7_day_ma_lag_30', '15_day_ma_lag_1', '15_day_ma_lag_3', '15_day_ma_lag_5', '15_day_ma_lag_7', '15_day_ma_lag_15', '15_day_ma_lag_30', '30_day_ma_lag_1', '30_day_ma_lag_3', '30_day_ma_lag_5', '30_day_ma_lag_7', '30_day_ma_lag_15', '30_day_ma_lag_30', 'daily_returns_lag_1', 'daily_returns_lag_3', 'daily_returns_lag_5', 'daily_returns_lag_7', 'daily_returns_lag_15', 'daily_returns_lag_30', 'daily_volatility_lag_1', 'daily_volatility_lag_3', 'daily_volatility_lag_5', 'daily_volatility_lag_7', 'daily_volatility_lag_15', 'daily_volatility_lag_30']\n",
      "\n",
      "\n",
      "\n",
      "['open', 'high', 'low', 'volume', '7_day_ma', '15_day_ma', '30_day_ma', 'daily_returns', 'daily_volatility']\n"
     ]
    }
   ],
   "source": [
    "\n",
    "#define features, target vars\n",
    "\n",
    "#a list of columns to exclude. This should be all the columns with data from a day d for which we are trying \n",
    "#to make predictions for (because we will not have access to this data in practice)\n",
    "exclude = [col for col in lag_columns if any(f'{col}_lag_' in c for c in df.columns)]\n",
    "#a list of the features to include. This is all columns that are not the date, target, or included\n",
    "#in our list of columns to exclude\n",
    "features = [col for col in df.columns if col not in ['date', 'close'] + exclude]\n",
    "print(features)\n",
    "print('\\n\\n')\n",
    "print(exclude)"
   ]
  },
  {
   "cell_type": "code",
   "execution_count": 10,
   "id": "f2c08b23-d5c1-4157-8ebc-a6cb8bf3a1e0",
   "metadata": {},
   "outputs": [],
   "source": [
    "#Split data into features and our target variable\n",
    "X = df[features]\n",
    "y = df['close']"
   ]
  },
  {
   "cell_type": "code",
   "execution_count": 11,
   "id": "2ea16181-5640-4de7-8a81-bcf2ec1b35fb",
   "metadata": {},
   "outputs": [],
   "source": [
    "#split the data into training and testing sets\n",
    "split = int(len(df) * 0.8) #split at 80% spot\n",
    "train = df.iloc[:split]#train data is the data before the split\n",
    "test = df.iloc[split:] #testing is the data after\n",
    "\n",
    "X_train = train[features] #feature data for training\n",
    "y_train = train['close'] #closing price data for testing\n",
    "X_test = test[features] #feature data for testing\n",
    "y_test = test['close'] #closing price data for testing\n"
   ]
  },
  {
   "cell_type": "code",
   "execution_count": 12,
   "id": "8edabedf-4da1-4df8-b946-d114b661e347",
   "metadata": {},
   "outputs": [],
   "source": [
    "\n",
    "split_date = '2016-11-15'  # date to split data into training/testing sets\n",
    "\n",
    "# Split data\n",
    "X_train = df[df['date'] < split_date][features]\n",
    "y_train = df[df['date'] < split_date]['close']\n",
    "\n",
    "X_test = df[df['date'] >= split_date][features]\n",
    "y_test = df[df['date'] >= split_date]['close']"
   ]
  },
  {
   "cell_type": "code",
   "execution_count": 13,
   "id": "076fb66e-1715-4d80-9dff-53b311300770",
   "metadata": {},
   "outputs": [],
   "source": [
    "#scale features\n",
    "scaler = StandardScaler()\n",
    "X_train_scaled = scaler.fit_transform(X_train)\n",
    "X_test_scaled = scaler.transform(X_test)"
   ]
  },
  {
   "cell_type": "code",
   "execution_count": 14,
   "id": "bffa2c79-506b-40b1-9090-087bd57a4830",
   "metadata": {},
   "outputs": [
    {
     "data": {
      "text/plain": [
       "LinearRegression()"
      ]
     },
     "execution_count": 14,
     "metadata": {},
     "output_type": "execute_result"
    }
   ],
   "source": [
    "\n",
    "#init model\n",
    "lr = LinearRegression()\n",
    "\n",
    "# train model\n",
    "lr.fit(X_train_scaled, y_train)"
   ]
  },
  {
   "cell_type": "code",
   "execution_count": 15,
   "id": "3629dcdc-6838-46f9-8f18-6c2a0956c14c",
   "metadata": {},
   "outputs": [
    {
     "name": "stdout",
     "output_type": "stream",
     "text": [
      "Mean Squared Error (MSE): 5.015923799135143\n",
      "R-squared (R2): 0.9996750469631156\n"
     ]
    }
   ],
   "source": [
    "\n",
    "# make predictions\n",
    "predictions = lr.predict(X_test_scaled)\n",
    "\n",
    "# eval\n",
    "mse = mean_squared_error(y_test, predictions)\n",
    "r2 = r2_score(y_test, predictions)\n",
    "print(f\"Mean Squared Error (MSE): {mse}\")\n",
    "print(f\"R-squared (R2): {r2}\")\n"
   ]
  },
  {
   "cell_type": "code",
   "execution_count": 16,
   "id": "8c29f518-6148-4e46-9649-b2514ee1a8f7",
   "metadata": {},
   "outputs": [
    {
     "data": {
      "text/plain": [
       "['lr-model.joblib']"
      ]
     },
     "execution_count": 16,
     "metadata": {},
     "output_type": "execute_result"
    }
   ],
   "source": [
    "from joblib import dump\n",
    "\n",
    "#save model\n",
    "dump(lr, 'lr-model.joblib')\n",
    "\n"
   ]
  },
  {
   "cell_type": "code",
   "execution_count": null,
   "id": "f4560f13-4390-49b6-91b5-e774892e3374",
   "metadata": {},
   "outputs": [],
   "source": []
  }
 ],
 "metadata": {
  "kernelspec": {
   "display_name": "Python 3 (ipykernel)",
   "language": "python",
   "name": "python3"
  },
  "language_info": {
   "codemirror_mode": {
    "name": "ipython",
    "version": 3
   },
   "file_extension": ".py",
   "mimetype": "text/x-python",
   "name": "python",
   "nbconvert_exporter": "python",
   "pygments_lexer": "ipython3",
   "version": "3.9.12"
  }
 },
 "nbformat": 4,
 "nbformat_minor": 5
}
